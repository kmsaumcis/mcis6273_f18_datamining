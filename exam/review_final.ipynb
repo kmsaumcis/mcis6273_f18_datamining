{
 "cells": [
  {
   "cell_type": "markdown",
   "metadata": {
    "slideshow": {
     "slide_type": "slide"
    }
   },
   "source": [
    "# MCIS6273 Fall 2018 (Prof. Maull) Data Mining Final Review"
   ]
  },
  {
   "cell_type": "markdown",
   "metadata": {
    "slideshow": {
     "slide_type": "slide"
    }
   },
   "source": [
    "* 30 questions on the final\n",
    "* 8 questions are calculations or code -- formulae will be given to you unless noted below\n",
    "* the final will be around 15% of your total grade, do your best!"
   ]
  },
  {
   "cell_type": "markdown",
   "metadata": {
    "slideshow": {
     "slide_type": "slide"
    }
   },
   "source": [
    "## Study tips\n",
    "* pace yourself and take breaks\n",
    "* get plenty of rest, pace yourself and remember to eat and drink frequently\n",
    "* on the night of the test, get a good night's rest"
   ]
  },
  {
   "cell_type": "markdown",
   "metadata": {
    "slideshow": {
     "slide_type": "slide"
    }
   },
   "source": [
    "## Data and Patterns\n",
    "\n",
    "* know the vector/matrix model of data \n",
    "    * $(f_1, f_2, \\ldots, f_n)$, where $f_i$ are the features of the vector\n",
    "* know the difference between binary, categorical and numeric data\n",
    "* know how to binarize a vector of categorical data"
   ]
  },
  {
   "cell_type": "markdown",
   "metadata": {
    "slideshow": {
     "slide_type": "slide"
    }
   },
   "source": [
    "* know the basic distance metrics\n",
    "     * Euclidean\n",
    "     * Jaccard (know the formula _and_ how to use it on **binary** data!)\n",
    "         * consider $v_1 = (1, 0, 1)$ and $v_2 = (0, 0, 1)$\n",
    "         * Jaccard is $$\\bigg|\\frac{v_1 \\cap v_2}{v_1 \\cup v_2} \\bigg|$$ then we have $\\frac{1}{2}$.\n",
    "     * Minkowski (how can Minkowski be converted to other common distance metrics like Euclidean?)\n",
    "     * cosine (useful with comparing documents)"
   ]
  },
  {
   "cell_type": "markdown",
   "metadata": {
    "slideshow": {
     "slide_type": "slide"
    }
   },
   "source": [
    "* know how to interpret a scatterplot in 2 dimensions and how the pattern in a plot relates to correlation\n",
    "* know what scaling and data normalizing do"
   ]
  },
  {
   "cell_type": "markdown",
   "metadata": {
    "slideshow": {
     "slide_type": "slide"
    }
   },
   "source": [
    "* know how to compute simple conditional probabilities\n",
    "\t* for example, given $\\Pr(color=\\mathrm{\"Blue\"}) = 0.25$ and $\\Pr(shape=\\mathrm{\"Round\"})=0.25$, and $\\Pr(color=\\mathrm{\"Blue\"} \\wedge shape=\\mathrm{\"Square\"}) = 0.75$ what is $\\Pr(color=\\mathrm{\"Blue\"} \\wedge shape=\\mathrm{\"Round\"})$. Assume there are only two colors (Blue and Red) and two shapes (Square and Round)?\n",
    "        * $\\Pr(color=\\mathrm{\"Red\"}) = 1 - \\Pr(color=\\mathrm{\"Blue\"}) = 0.75$\n",
    "        * $\\Pr(shape=\\mathrm{\"Round\"}) = 1 - \\Pr(color=\\mathrm{\"Square\"}) = 0.75$"
   ]
  },
  {
   "cell_type": "markdown",
   "metadata": {
    "slideshow": {
     "slide_type": "slide"
    }
   },
   "source": [
    "    \n",
    "* Know the various visualizations (bar charts, scatter plots bubble plots)"
   ]
  },
  {
   "cell_type": "markdown",
   "metadata": {
    "slideshow": {
     "slide_type": "slide"
    }
   },
   "source": [
    "![alt text](./infographics-design-flowchart.jpg \"Visualization Guideline Chart\")"
   ]
  },
  {
   "cell_type": "markdown",
   "metadata": {
    "slideshow": {
     "slide_type": "slide"
    }
   },
   "source": [
    "## Unsupervised Learning\n",
    "\n",
    "* know the basic concepts between various clustering algorithms\n",
    "    * $k$-Means, $k$-medoids, Expectation Maximization are the only one's you need to review"
   ]
  },
  {
   "cell_type": "markdown",
   "metadata": {
    "slideshow": {
     "slide_type": "slide"
    }
   },
   "source": [
    "## Supervised Learning\n",
    "\n",
    "* know what linear and logistic regression are (how are they different?)\n",
    "    * remember logistic regression returns a binary value, linear returns a numeric value\n",
    "* know how to interpret $R^2$ values from a regression model\n",
    "    * $0 \\rightarrow$ **poor** models\n",
    "    * $>0.70 \\rightarrow$ **strong positive** models    "
   ]
  },
  {
   "cell_type": "markdown",
   "metadata": {
    "slideshow": {
     "slide_type": "slide"
    }
   },
   "source": [
    "* know what a decision tree classifier is and how it is different from other classification\n",
    "    * know that splitting criteria to build trees and are use and the highest _gain_ is the goal for splitting\n",
    "* understand how to compute class membership with a Naive Bayes classifier by hand given the class probabilities (recall the example in the slides)\n",
    "    * you will NOT have to memorize Baye's Theorem, but you **will** have to use it if given to you!\n",
    "* know what a support vector machine is and why is it useful for high dimensional data"
   ]
  },
  {
   "cell_type": "markdown",
   "metadata": {
    "slideshow": {
     "slide_type": "slide"
    }
   },
   "source": [
    "* know what the true positive rate (sensitivity) and true negative rate (specificity) are in terms of their formal definition\n",
    "* know what a confusion matrix is and how it relates to determining the performance of a classifier\n",
    "    * TP $\\rightarrow$ true positive\n",
    "    * FP $\\rightarrow$ false positive; predict positive class when actual is negative \n",
    "    * TN $\\rightarrow$ true negative\n",
    "    * FN $\\rightarrow$ false negative; predict negative class when actual is positive"
   ]
  },
  {
   "cell_type": "markdown",
   "metadata": {
    "slideshow": {
     "slide_type": "slide"
    }
   },
   "source": [
    "## SciKit Learn and Code\n",
    "\n",
    "* know what scaling tools you used in the homework\n",
    "    * [minmax_scale()](https://scikit-learn.org/stable/modules/generated/sklearn.preprocessing.minmax_scale.html)\n",
    "    "
   ]
  },
  {
   "cell_type": "code",
   "execution_count": 1,
   "metadata": {
    "slideshow": {
     "slide_type": "fragment"
    }
   },
   "outputs": [
    {
     "data": {
      "text/plain": [
       "array([0.  , 0.25, 0.5 , 0.75, 1.  ])"
      ]
     },
     "execution_count": 1,
     "metadata": {},
     "output_type": "execute_result"
    }
   ],
   "source": [
    "from sklearn.preprocessing import minmax_scale\n",
    "D = [0,5,10,15,20]\n",
    "minmax_scale(D)"
   ]
  },
  {
   "cell_type": "markdown",
   "metadata": {
    "slideshow": {
     "slide_type": "slide"
    }
   },
   "source": [
    "* understand test/training set creation on sklean"
   ]
  },
  {
   "cell_type": "code",
   "execution_count": 2,
   "metadata": {
    "slideshow": {
     "slide_type": "subslide"
    }
   },
   "outputs": [],
   "source": [
    "import pandas as pd\n",
    "df = pd.read_csv('https://data.ny.gov/api/views/kpws-qgfw/rows.csv?accessType=DOWNLOAD&bom=true&query=select+*')"
   ]
  },
  {
   "cell_type": "code",
   "execution_count": 3,
   "metadata": {
    "slideshow": {
     "slide_type": "fragment"
    }
   },
   "outputs": [
    {
     "data": {
      "text/html": [
       "<div>\n",
       "<style scoped>\n",
       "    .dataframe tbody tr th:only-of-type {\n",
       "        vertical-align: middle;\n",
       "    }\n",
       "\n",
       "    .dataframe tbody tr th {\n",
       "        vertical-align: top;\n",
       "    }\n",
       "\n",
       "    .dataframe thead th {\n",
       "        text-align: right;\n",
       "    }\n",
       "</style>\n",
       "<table border=\"1\" class=\"dataframe\">\n",
       "  <thead>\n",
       "    <tr style=\"text-align: right;\">\n",
       "      <th></th>\n",
       "      <th>Year</th>\n",
       "      <th>DEC Region</th>\n",
       "      <th>County</th>\n",
       "      <th>Town</th>\n",
       "      <th>Waterbody</th>\n",
       "      <th>Date</th>\n",
       "      <th>Number</th>\n",
       "      <th>Species Name</th>\n",
       "      <th>Size (inches )</th>\n",
       "    </tr>\n",
       "  </thead>\n",
       "  <tbody>\n",
       "    <tr>\n",
       "      <th>0</th>\n",
       "      <td>2018</td>\n",
       "      <td>3</td>\n",
       "      <td>Sullivan</td>\n",
       "      <td>Rockland</td>\n",
       "      <td>Beaver Kill</td>\n",
       "      <td>Mid April</td>\n",
       "      <td>692</td>\n",
       "      <td>Brown Trout</td>\n",
       "      <td>12 -15 inches</td>\n",
       "    </tr>\n",
       "    <tr>\n",
       "      <th>1</th>\n",
       "      <td>2018</td>\n",
       "      <td>5</td>\n",
       "      <td>Warren</td>\n",
       "      <td>Johnsburg</td>\n",
       "      <td>Botheration Pond</td>\n",
       "      <td>Spring</td>\n",
       "      <td>260</td>\n",
       "      <td>Brown Trout</td>\n",
       "      <td>8 - 9 inches</td>\n",
       "    </tr>\n",
       "    <tr>\n",
       "      <th>2</th>\n",
       "      <td>2018</td>\n",
       "      <td>5</td>\n",
       "      <td>Essex</td>\n",
       "      <td>Ticonderoga</td>\n",
       "      <td>Putnam Creek</td>\n",
       "      <td>May</td>\n",
       "      <td>260</td>\n",
       "      <td>Brown Trout</td>\n",
       "      <td>8 - 9 inches</td>\n",
       "    </tr>\n",
       "    <tr>\n",
       "      <th>3</th>\n",
       "      <td>2018</td>\n",
       "      <td>7</td>\n",
       "      <td>Cortland</td>\n",
       "      <td>Homer</td>\n",
       "      <td>Casterline Pond</td>\n",
       "      <td>Mid April</td>\n",
       "      <td>780</td>\n",
       "      <td>Rainbow Trout</td>\n",
       "      <td>8 - 9 inches</td>\n",
       "    </tr>\n",
       "    <tr>\n",
       "      <th>4</th>\n",
       "      <td>2018</td>\n",
       "      <td>9</td>\n",
       "      <td>Chautauqua</td>\n",
       "      <td>Gerry</td>\n",
       "      <td>Mill Creek</td>\n",
       "      <td>Mid April</td>\n",
       "      <td>800</td>\n",
       "      <td>Brook Trout</td>\n",
       "      <td>8 - 9 inches</td>\n",
       "    </tr>\n",
       "  </tbody>\n",
       "</table>\n",
       "</div>"
      ],
      "text/plain": [
       "   Year  DEC Region      County         Town         Waterbody       Date  \\\n",
       "0  2018           3    Sullivan     Rockland       Beaver Kill  Mid April   \n",
       "1  2018           5      Warren    Johnsburg  Botheration Pond     Spring   \n",
       "2  2018           5       Essex  Ticonderoga      Putnam Creek        May   \n",
       "3  2018           7    Cortland        Homer   Casterline Pond  Mid April   \n",
       "4  2018           9  Chautauqua        Gerry        Mill Creek  Mid April   \n",
       "\n",
       "   Number   Species Name Size (inches )  \n",
       "0     692    Brown Trout  12 -15 inches  \n",
       "1     260    Brown Trout   8 - 9 inches  \n",
       "2     260    Brown Trout   8 - 9 inches  \n",
       "3     780  Rainbow Trout   8 - 9 inches  \n",
       "4     800    Brook Trout   8 - 9 inches  "
      ]
     },
     "execution_count": 3,
     "metadata": {},
     "output_type": "execute_result"
    }
   ],
   "source": [
    "df.head()"
   ]
  },
  {
   "cell_type": "code",
   "execution_count": 4,
   "metadata": {
    "slideshow": {
     "slide_type": "subslide"
    }
   },
   "outputs": [
    {
     "data": {
      "text/plain": [
       "(1471, 9)"
      ]
     },
     "execution_count": 4,
     "metadata": {},
     "output_type": "execute_result"
    }
   ],
   "source": [
    "df.shape"
   ]
  },
  {
   "cell_type": "code",
   "execution_count": 9,
   "metadata": {
    "slideshow": {
     "slide_type": "subslide"
    }
   },
   "outputs": [],
   "source": [
    "from sklearn.cross_validation import train_test_split\n",
    "train_set, test_set = train_test_split(df, test_size=0.40)"
   ]
  },
  {
   "cell_type": "code",
   "execution_count": 6,
   "metadata": {
    "slideshow": {
     "slide_type": "fragment"
    }
   },
   "outputs": [
    {
     "data": {
      "text/plain": [
       "(882, 9)"
      ]
     },
     "execution_count": 6,
     "metadata": {},
     "output_type": "execute_result"
    }
   ],
   "source": [
    "train_set.shape"
   ]
  },
  {
   "cell_type": "code",
   "execution_count": 7,
   "metadata": {
    "slideshow": {
     "slide_type": "fragment"
    }
   },
   "outputs": [
    {
     "data": {
      "text/plain": [
       "(589, 9)"
      ]
     },
     "execution_count": 7,
     "metadata": {},
     "output_type": "execute_result"
    }
   ],
   "source": [
    "test_set.shape # 589 / 1471 = 0.40"
   ]
  },
  {
   "cell_type": "markdown",
   "metadata": {
    "slideshow": {
     "slide_type": "subslide"
    }
   },
   "source": [
    "* know how to interpret DataFrames and boolean indexing (e.g. what does `df[df.attribute<100]` return?)"
   ]
  },
  {
   "cell_type": "code",
   "execution_count": 8,
   "metadata": {
    "slideshow": {
     "slide_type": "subslide"
    }
   },
   "outputs": [
    {
     "data": {
      "text/html": [
       "<div>\n",
       "<style scoped>\n",
       "    .dataframe tbody tr th:only-of-type {\n",
       "        vertical-align: middle;\n",
       "    }\n",
       "\n",
       "    .dataframe tbody tr th {\n",
       "        vertical-align: top;\n",
       "    }\n",
       "\n",
       "    .dataframe thead th {\n",
       "        text-align: right;\n",
       "    }\n",
       "</style>\n",
       "<table border=\"1\" class=\"dataframe\">\n",
       "  <thead>\n",
       "    <tr style=\"text-align: right;\">\n",
       "      <th></th>\n",
       "      <th>Year</th>\n",
       "      <th>DEC Region</th>\n",
       "      <th>County</th>\n",
       "      <th>Town</th>\n",
       "      <th>Waterbody</th>\n",
       "      <th>Date</th>\n",
       "      <th>Number</th>\n",
       "      <th>Species Name</th>\n",
       "      <th>Size (inches )</th>\n",
       "    </tr>\n",
       "  </thead>\n",
       "  <tbody>\n",
       "    <tr>\n",
       "      <th>172</th>\n",
       "      <td>2018</td>\n",
       "      <td>8</td>\n",
       "      <td>Genesee</td>\n",
       "      <td>Le Roy</td>\n",
       "      <td>Oatka Creek</td>\n",
       "      <td>March - April</td>\n",
       "      <td>700</td>\n",
       "      <td>Brown Trout</td>\n",
       "      <td>12 -15 inches</td>\n",
       "    </tr>\n",
       "    <tr>\n",
       "      <th>179</th>\n",
       "      <td>2018</td>\n",
       "      <td>8</td>\n",
       "      <td>Genesee</td>\n",
       "      <td>Le Roy</td>\n",
       "      <td>Oatka Creek</td>\n",
       "      <td>March - April</td>\n",
       "      <td>2870</td>\n",
       "      <td>Brown Trout</td>\n",
       "      <td>8 - 9 inches</td>\n",
       "    </tr>\n",
       "    <tr>\n",
       "      <th>280</th>\n",
       "      <td>2018</td>\n",
       "      <td>8</td>\n",
       "      <td>Genesee</td>\n",
       "      <td>Le Roy</td>\n",
       "      <td>Oatka Creek</td>\n",
       "      <td>May - June</td>\n",
       "      <td>2520</td>\n",
       "      <td>Brown Trout</td>\n",
       "      <td>8 - 9 inches</td>\n",
       "    </tr>\n",
       "    <tr>\n",
       "      <th>288</th>\n",
       "      <td>2018</td>\n",
       "      <td>8</td>\n",
       "      <td>Genesee</td>\n",
       "      <td>Byron</td>\n",
       "      <td>Spring Brook</td>\n",
       "      <td>March - April</td>\n",
       "      <td>150</td>\n",
       "      <td>Brown Trout</td>\n",
       "      <td>12 -15 inches</td>\n",
       "    </tr>\n",
       "    <tr>\n",
       "      <th>745</th>\n",
       "      <td>2018</td>\n",
       "      <td>8</td>\n",
       "      <td>Genesee</td>\n",
       "      <td>Le Roy</td>\n",
       "      <td>Oatka Creek</td>\n",
       "      <td>April - May</td>\n",
       "      <td>1480</td>\n",
       "      <td>Brown Trout</td>\n",
       "      <td>8 - 9 inches</td>\n",
       "    </tr>\n",
       "    <tr>\n",
       "      <th>781</th>\n",
       "      <td>2018</td>\n",
       "      <td>8</td>\n",
       "      <td>Genesee</td>\n",
       "      <td>Byron</td>\n",
       "      <td>Spring Brook</td>\n",
       "      <td>March - April</td>\n",
       "      <td>260</td>\n",
       "      <td>Brown Trout</td>\n",
       "      <td>8 - 9 inches</td>\n",
       "    </tr>\n",
       "    <tr>\n",
       "      <th>786</th>\n",
       "      <td>2018</td>\n",
       "      <td>8</td>\n",
       "      <td>Genesee</td>\n",
       "      <td>Le Roy</td>\n",
       "      <td>Oatka Creek</td>\n",
       "      <td>April - May</td>\n",
       "      <td>700</td>\n",
       "      <td>Brown Trout</td>\n",
       "      <td>12 -15 inches</td>\n",
       "    </tr>\n",
       "    <tr>\n",
       "      <th>1332</th>\n",
       "      <td>2018</td>\n",
       "      <td>8</td>\n",
       "      <td>Genesee</td>\n",
       "      <td>Batavia</td>\n",
       "      <td>Dewitt Pond</td>\n",
       "      <td>March - April</td>\n",
       "      <td>500</td>\n",
       "      <td>Brown Trout</td>\n",
       "      <td>12 -15 inches</td>\n",
       "    </tr>\n",
       "  </tbody>\n",
       "</table>\n",
       "</div>"
      ],
      "text/plain": [
       "      Year  DEC Region   County     Town     Waterbody           Date  Number  \\\n",
       "172   2018           8  Genesee   Le Roy   Oatka Creek  March - April     700   \n",
       "179   2018           8  Genesee   Le Roy   Oatka Creek  March - April    2870   \n",
       "280   2018           8  Genesee   Le Roy   Oatka Creek     May - June    2520   \n",
       "288   2018           8  Genesee    Byron  Spring Brook  March - April     150   \n",
       "745   2018           8  Genesee   Le Roy   Oatka Creek    April - May    1480   \n",
       "781   2018           8  Genesee    Byron  Spring Brook  March - April     260   \n",
       "786   2018           8  Genesee   Le Roy   Oatka Creek    April - May     700   \n",
       "1332  2018           8  Genesee  Batavia   Dewitt Pond  March - April     500   \n",
       "\n",
       "     Species Name Size (inches )  \n",
       "172   Brown Trout  12 -15 inches  \n",
       "179   Brown Trout   8 - 9 inches  \n",
       "280   Brown Trout   8 - 9 inches  \n",
       "288   Brown Trout  12 -15 inches  \n",
       "745   Brown Trout   8 - 9 inches  \n",
       "781   Brown Trout   8 - 9 inches  \n",
       "786   Brown Trout  12 -15 inches  \n",
       "1332  Brown Trout  12 -15 inches  "
      ]
     },
     "execution_count": 8,
     "metadata": {},
     "output_type": "execute_result"
    }
   ],
   "source": [
    "df[df.County=='Genesee']"
   ]
  },
  {
   "cell_type": "markdown",
   "metadata": {
    "slideshow": {
     "slide_type": "subslide"
    }
   },
   "source": [
    "* know what `df.describe()` does"
   ]
  }
 ],
 "metadata": {
  "celltoolbar": "Slideshow",
  "kernelspec": {
   "display_name": "Python 3",
   "language": "python",
   "name": "python3"
  },
  "language_info": {
   "codemirror_mode": {
    "name": "ipython",
    "version": 3
   },
   "file_extension": ".py",
   "mimetype": "text/x-python",
   "name": "python",
   "nbconvert_exporter": "python",
   "pygments_lexer": "ipython3",
   "version": "3.6.5"
  }
 },
 "nbformat": 4,
 "nbformat_minor": 2
}
